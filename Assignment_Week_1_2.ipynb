{
 "cells": [
  {
   "cell_type": "markdown",
   "metadata": {},
   "source": [
    "## Python Data Type: String - Exercises"
   ]
  },
  {
   "cell_type": "markdown",
   "metadata": {},
   "source": [
    "#### 1. Write a Python program to count the number of characters (character frequency) in a string \n",
    "* Sample String : google.com'\n",
    "* Expected Result : {'o': 3, 'g': 2, '.': 1, 'e': 1, 'l': 1, 'm': 1, 'c': 1}"
   ]
  },
  {
   "cell_type": "code",
   "execution_count": 1,
   "metadata": {},
   "outputs": [
    {
     "name": "stdout",
     "output_type": "stream",
     "text": [
      "google.com\n",
      "{'g': 2, 'o': 3, 'l': 1, 'e': 1, '.': 1, 'c': 1, 'm': 1}\n"
     ]
    }
   ],
   "source": [
    "def split(word): \n",
    "   return [char for char in word]  \n",
    "sample=input()\n",
    "sample=split(sample)\n",
    "dict={}\n",
    "for i in sample:\n",
    "    dict[i]=sample.count(i)\n",
    "print(dict)\n",
    "\n"
   ]
  },
  {
   "cell_type": "markdown",
   "metadata": {},
   "source": [
    "#### 2. Write a Python program to get a string from a given string where all occurrences of its first char have been changed to '$' ,except the first char itself\n",
    "\n",
    "* Sample String : 'restart'\n",
    "* Expected Result : 'resta$t' "
   ]
  },
  {
   "cell_type": "code",
   "execution_count": 3,
   "metadata": {},
   "outputs": [
    {
     "name": "stdout",
     "output_type": "stream",
     "text": [
      "restart\n",
      "resta$rt\n"
     ]
    }
   ],
   "source": [
    "sample=input()\n",
    "sample2=sample[0]\n",
    "for i in range(1,len(sample)):\n",
    "    if(sample[i]==sample[0]):\n",
    "       sample2+='$'\n",
    "    sample2+=sample[i]\n",
    "print(sample2)"
   ]
  },
  {
   "cell_type": "markdown",
   "metadata": {},
   "source": [
    "#### 3. Write a Python function that takes a list of words and returns the length of the longest one\n"
   ]
  },
  {
   "cell_type": "code",
   "execution_count": 5,
   "metadata": {},
   "outputs": [
    {
     "name": "stdout",
     "output_type": "stream",
     "text": [
      "good boy is the ravent\n",
      "6\n"
     ]
    }
   ],
   "source": [
    "list1=list(input().split())\n",
    "temp=len(list1[0])\n",
    "for word in list1:\n",
    "    if len(word)>temp:\n",
    "        temp=len(word)\n",
    "print(temp)"
   ]
  },
  {
   "cell_type": "markdown",
   "metadata": {},
   "source": [
    "#### 4. Write a Python program to count the occurrences of each word in a given sentence"
   ]
  },
  {
   "cell_type": "code",
   "execution_count": 7,
   "metadata": {},
   "outputs": [
    {
     "name": "stdout",
     "output_type": "stream",
     "text": [
      "my name is shivam and i love my shivam\n",
      "{'my': 2, 'name': 1, 'is': 1, 'shivam': 2, 'and': 1, 'i': 1, 'love': 1}\n"
     ]
    }
   ],
   "source": [
    "list1=list(input().split())\n",
    "dict={}\n",
    "for i in list1:\n",
    "    dict[i]=list1.count(i)\n",
    "print(dict)"
   ]
  },
  {
   "cell_type": "markdown",
   "metadata": {},
   "source": [
    "#### 5. Write a Python function to convert a given string to all uppercase if it contains at least 2 uppercase characters in the first 4 characters."
   ]
  },
  {
   "cell_type": "code",
   "execution_count": 17,
   "metadata": {},
   "outputs": [
    {
     "name": "stdout",
     "output_type": "stream",
     "text": [
      "SHIVAM\n"
     ]
    }
   ],
   "source": [
    "def converter(word):\n",
    "    count=0\n",
    "    for i in word:\n",
    "        if i.isupper():\n",
    "            count+=1\n",
    "    if count>1:\n",
    "        return word.upper()\n",
    "    else:\n",
    "        return word\n",
    "print(converter('shIVam'))"
   ]
  },
  {
   "cell_type": "markdown",
   "metadata": {},
   "source": [
    "#### 6. Write a Python program to count and display the vowels of a given text"
   ]
  },
  {
   "cell_type": "code",
   "execution_count": 2,
   "metadata": {},
   "outputs": [
    {
     "name": "stdout",
     "output_type": "stream",
     "text": [
      "garima is a good girl\n",
      "{'a': 3, 'e': 0, 'i': 3, 'o': 2, 'u': 0}\n"
     ]
    }
   ],
   "source": [
    "sample=input()\n",
    "dict={}\n",
    "dict['a']=sample.count('a');\n",
    "dict['e']=sample.count('e');\n",
    "dict['i']=sample.count('i');\n",
    "dict['o']=sample.count('o');\n",
    "dict['u']=sample.count('u');\n",
    "print(dict)"
   ]
  },
  {
   "cell_type": "code",
   "execution_count": null,
   "metadata": {},
   "outputs": [],
   "source": [
    "## Python Data Type: List - Exercises"
   ]
  },
  {
   "cell_type": "markdown",
   "metadata": {},
   "source": [
    "#### 1. Write a Python program to check a list is empty or not\n"
   ]
  },
  {
   "cell_type": "code",
   "execution_count": 4,
   "metadata": {},
   "outputs": [],
   "source": [
    "sample_list = list()\n",
    "if sample_list == []:\n",
    "    pass  # the list is empty"
   ]
  },
  {
   "cell_type": "markdown",
   "metadata": {},
   "source": [
    "#### 2. Write a Python program to remove duplicates from a list.\n"
   ]
  },
  {
   "cell_type": "code",
   "execution_count": 5,
   "metadata": {},
   "outputs": [
    {
     "name": "stdout",
     "output_type": "stream",
     "text": [
      "[2, 4, 10, 20, 5]\n"
     ]
    }
   ],
   "source": [
    "def Remove(duplicate): \n",
    "    final_list = [] \n",
    "    for num in duplicate: \n",
    "        if num not in final_list: \n",
    "            final_list.append(num) \n",
    "    return final_list \n",
    "      \n",
    "duplicate = [2, 4, 10, 20, 5, 2, 20, 4] \n",
    "print(Remove(duplicate))"
   ]
  },
  {
   "cell_type": "markdown",
   "metadata": {},
   "source": [
    "#### 3. Write a Python function that takes two lists and returns True if they have at least one common member\n"
   ]
  },
  {
   "cell_type": "code",
   "execution_count": 8,
   "metadata": {},
   "outputs": [
    {
     "name": "stdout",
     "output_type": "stream",
     "text": [
      "True\n"
     ]
    }
   ],
   "source": [
    "def twoList(list1,list2):\n",
    "    for member in list1:\n",
    "        if member in list2:\n",
    "            return True\n",
    "    return False\n",
    "print(twoList([2, 4, 10, 20, 5, 2, 20, 4] ,[0,2]))"
   ]
  },
  {
   "cell_type": "markdown",
   "metadata": {},
   "source": [
    "#### 4. Write a Python program to get the difference between the two lists\n"
   ]
  },
  {
   "cell_type": "code",
   "execution_count": 18,
   "metadata": {},
   "outputs": [
    {
     "name": "stdout",
     "output_type": "stream",
     "text": [
      "[0, 0, 0, 0, 0, 0, 0, 0]\n"
     ]
    }
   ],
   "source": [
    "def difference(list1,list2):\n",
    "    final=[]\n",
    "    for i in range(len(list1)):\n",
    "        final.append(list1[i]-list2[i])\n",
    "    return final\n",
    "print(difference([2, 4, 10, 20, 5, 2, 20, 4] ,[2, 4, 10, 20, 5, 2, 20, 4]))"
   ]
  },
  {
   "cell_type": "markdown",
   "metadata": {},
   "source": [
    "#### 5. Write a Python program to find the second smallest number in a list\n"
   ]
  },
  {
   "cell_type": "code",
   "execution_count": 19,
   "metadata": {
    "scrolled": true
   },
   "outputs": [
    {
     "name": "stdout",
     "output_type": "stream",
     "text": [
      "Second Smallest element is: 4\n"
     ]
    }
   ],
   "source": [
    "def find(list1): \n",
    "    list1.sort() \n",
    "    print(\"Second Smallest element is:\", list1[1]) \n",
    "  \n",
    "list1=[12, 45, 2, 41, 31, 10, 8, 6, 4] \n",
    "find(list1) "
   ]
  },
  {
   "cell_type": "markdown",
   "metadata": {},
   "source": [
    "#### 6.  Write a Python program to find the second largest number in a list.\n"
   ]
  },
  {
   "cell_type": "code",
   "execution_count": 20,
   "metadata": {},
   "outputs": [
    {
     "name": "stdout",
     "output_type": "stream",
     "text": [
      "Second Largest element is: 41\n"
     ]
    }
   ],
   "source": [
    "def find(list1): \n",
    "    list1.sort() \n",
    "    print(\"Second Largest element is:\", list1[-2]) \n",
    "  \n",
    "list1=[12, 45, 2, 41, 31, 10, 8, 6, 4] \n",
    "find(list1) "
   ]
  },
  {
   "cell_type": "markdown",
   "metadata": {},
   "source": [
    "#### 7. Write a Python program to get the frequency of the elements in a list\n"
   ]
  },
  {
   "cell_type": "code",
   "execution_count": 23,
   "metadata": {},
   "outputs": [
    {
     "name": "stdout",
     "output_type": "stream",
     "text": [
      "{12: 2, 45: 2, 8: 2, 6: 2, 4: 1}\n"
     ]
    }
   ],
   "source": [
    "def freq(list1): \n",
    "    dict={}\n",
    "    for i in list1:\n",
    "        dict[i]=list1.count(i)\n",
    "    print(dict)\n",
    "list1=[12, 45,12, 45, 8, 6, 8, 6, 4] \n",
    "freq(list1)"
   ]
  },
  {
   "cell_type": "markdown",
   "metadata": {},
   "source": [
    "#### 8. Write a Python program to convert a list of multiple integers into a single integer\n",
    "* Sample list: [11, 33, 50]\n",
    "* Expected Output: 113350\n"
   ]
  },
  {
   "cell_type": "code",
   "execution_count": 26,
   "metadata": {},
   "outputs": [
    {
     "name": "stdout",
     "output_type": "stream",
     "text": [
      "113350\n"
     ]
    }
   ],
   "source": [
    "def convert(list1):\n",
    "    string1=''\n",
    "    for i in list1:\n",
    "        string1+=str(i)\n",
    "    return int(string1)\n",
    "list1= [11, 33, 50]\n",
    "s_int=convert(list1)\n",
    "print(s_int)\n"
   ]
  },
  {
   "cell_type": "markdown",
   "metadata": {},
   "source": [
    "#### 9. Write a Python program to compute the similarity between two lists.\n",
    "* Sample data: [\"red\", \"orange\", \"green\", \"blue\", \"white\"], [\"black\", \"yellow\", \"green\", \"blue\"]\n",
    "* Expected Output: \n",
    "* Color1-Color2: ['white', 'orange', 'red']\n",
    "* Color2-Color1: ['black', 'yellow']\n"
   ]
  },
  {
   "cell_type": "code",
   "execution_count": 29,
   "metadata": {},
   "outputs": [
    {
     "name": "stdout",
     "output_type": "stream",
     "text": [
      "{'red', 'white', 'orange'}\n",
      "{'black', 'yellow'}\n"
     ]
    }
   ],
   "source": [
    "def similar(list1,list2):\n",
    "    print(set(list1)-set(list2))\n",
    "    print(set(list2)-set(list1))\n",
    "list1,list2= [\"red\", \"orange\", \"green\", \"blue\", \"white\"], [\"black\", \"yellow\", \"green\", \"blue\"]\n",
    "similar(list1,list2)"
   ]
  },
  {
   "cell_type": "markdown",
   "metadata": {},
   "source": [
    "#### 10. Write a Python program to check if all dictionaries in a list are empty or not.\n",
    "* Sample list : [{},{},{}]\n",
    "* Return value : True\n",
    "* Sample list : [{1,2},{},{}]\n",
    "* Return value : False\n"
   ]
  },
  {
   "cell_type": "code",
   "execution_count": 55,
   "metadata": {},
   "outputs": [
    {
     "name": "stdout",
     "output_type": "stream",
     "text": [
      "True\n",
      "False\n"
     ]
    }
   ],
   "source": [
    "list1 = [{},{},{}]\n",
    "list2 = [{1,2},{},{}]\n",
    "print(all(not d for d in list1))\n",
    "print(all(not d for d in list2))"
   ]
  },
  {
   "cell_type": "markdown",
   "metadata": {},
   "source": [
    "## Python Data Types: Dictionary\n"
   ]
  },
  {
   "cell_type": "markdown",
   "metadata": {},
   "source": [
    "#### 1. Write a Python script to generate and print a dictionary that contains a number (between 1 and n) in the form (x, x*x)\n",
    "* Sample Dictionary ( n = 5) : \n",
    "* Expected Output : {1: 1, 2: 4, 3: 9, 4: 16, 5: 25}\n"
   ]
  },
  {
   "cell_type": "code",
   "execution_count": 56,
   "metadata": {},
   "outputs": [
    {
     "name": "stdout",
     "output_type": "stream",
     "text": [
      "5\n",
      "{1: 1, 2: 4, 3: 9, 4: 16, 5: 25}\n"
     ]
    }
   ],
   "source": [
    "dict={}\n",
    "n=int(input())\n",
    "for i in range(1,n+1):\n",
    "    dict[i]=i**2\n",
    "print(dict)"
   ]
  },
  {
   "cell_type": "markdown",
   "metadata": {},
   "source": [
    "#### 2. Write a Python program to combine two dictionary adding values for common keys\n",
    "* d1 = {'a': 100, 'b': 200, 'c':300}\n",
    "* d2 = {'a': 300, 'b': 200, 'd':400}\n",
    "* Sample output: Counter({'a': 400, 'b': 400, 'd': 400, 'c': 300})\n"
   ]
  },
  {
   "cell_type": "code",
   "execution_count": 57,
   "metadata": {},
   "outputs": [
    {
     "name": "stdout",
     "output_type": "stream",
     "text": [
      "Counter({'a': 400, 'b': 400, 'd': 400, 'c': 300})\n"
     ]
    }
   ],
   "source": [
    "from collections import Counter\n",
    "d1 = {'a': 100, 'b': 200, 'c':300}\n",
    "d2 = {'a': 300, 'b': 200, 'd':400}\n",
    "d = Counter(d1) + Counter(d2)\n",
    "print(d)"
   ]
  },
  {
   "cell_type": "markdown",
   "metadata": {},
   "source": [
    "#### 3. Write a Python program to print all unique values in a dictionary\n",
    "* Sample Data : [{\"V\":\"S001\"}, {\"V\": \"S002\"}, {\"VI\": \"S001\"}, {\"VI\": \"S005\"}, {\"VII\":\"S005\"}, {\"V\":\"S009\"},{\"VIII\":\"S007\"}]\n",
    "* Expected Output : Unique Values: {'S005', 'S002', 'S007', 'S001', 'S009'}\n"
   ]
  },
  {
   "cell_type": "code",
   "execution_count": 60,
   "metadata": {},
   "outputs": [
    {
     "name": "stdout",
     "output_type": "stream",
     "text": [
      "Unique Values:  {'S002', 'S009', 'S007', 'S005', 'S001'}\n"
     ]
    }
   ],
   "source": [
    "L = [{\"V\":\"S001\"}, {\"V\": \"S002\"}, {\"VI\": \"S001\"}, {\"VI\": \"S005\"}, {\"VII\":\"S005\"}, {\"V\":\"S009\"},{\"VIII\":\"S007\"}]\n",
    "u_value = set( value for dic in L for value in dic.values())\n",
    "print(\"Unique Values: \",u_value)"
   ]
  },
  {
   "cell_type": "markdown",
   "metadata": {},
   "source": [
    "#### 4. Write a Python program to create and display all combinations of letters, selecting each letter from a different key in a dictionary.\n",
    "* Sample data : {'1':['a','b'], '2':['c','d']}\n",
    "###### Expected Output: \n",
    "ac\n",
    "ad\n",
    "bc\n",
    "bd\n"
   ]
  },
  {
   "cell_type": "code",
   "execution_count": 61,
   "metadata": {},
   "outputs": [
    {
     "name": "stdout",
     "output_type": "stream",
     "text": [
      "ac\n",
      "ad\n",
      "bc\n",
      "bd\n"
     ]
    }
   ],
   "source": [
    "import itertools      \n",
    "d ={'1':['a','b'], '2':['c','d']}\n",
    "for combo in itertools.product(*[d[k] for k in sorted(d.keys())]):\n",
    "    print(''.join(combo))"
   ]
  },
  {
   "cell_type": "markdown",
   "metadata": {},
   "source": [
    "#### 5. Write a Python program to create a dictionary from a string.\n",
    "* Note: Track the count of the letters from the string.\n",
    "* Sample string : 'w3resource'\n",
    "* Expected output: {'3': 1, 's': 1, 'r': 2, 'u': 1, 'w': 1, 'c': 1, 'e': 2, 'o': 1}\n"
   ]
  },
  {
   "cell_type": "code",
   "execution_count": 62,
   "metadata": {},
   "outputs": [
    {
     "name": "stdout",
     "output_type": "stream",
     "text": [
      "w3resource\n",
      "{'w': 1, '3': 1, 'r': 2, 'e': 2, 's': 1, 'o': 1, 'u': 1, 'c': 1}\n"
     ]
    }
   ],
   "source": [
    "def split(word): \n",
    "   return [char for char in word]  \n",
    "sample=input()\n",
    "sample=split(sample)\n",
    "dict={}\n",
    "for i in sample:\n",
    "    dict[i]=sample.count(i)\n",
    "print(dict)"
   ]
  },
  {
   "cell_type": "markdown",
   "metadata": {},
   "source": [
    "#### 6. Write a Python program to count the values associated with key in a dictionary.\n",
    "* Sample data: = [{'id': 1, 'success': True, 'name': 'Lary'}, {'id': 2, 'success': False, 'name': 'Rabi'}, {'id': 3, 'success': True, 'name': 'Alex'}]\n",
    "* Expected result: Count of how many dictionaries have success as True\n"
   ]
  },
  {
   "cell_type": "code",
   "execution_count": 64,
   "metadata": {},
   "outputs": [
    {
     "name": "stdout",
     "output_type": "stream",
     "text": [
      "2\n"
     ]
    }
   ],
   "source": [
    "data = [{'id': 1, 'success': True, 'name': 'Lary'},\n",
    " {'id': 2, 'success': False, 'name': 'Rabi'},\n",
    " {'id': 3, 'success': True, 'name': 'Alex'}]\n",
    "print(sum(d['success'] for d in data))"
   ]
  },
  {
   "cell_type": "markdown",
   "metadata": {},
   "source": [
    "#### 7. Write a Python program to convert a list into a nested dictionary of keys.\n"
   ]
  },
  {
   "cell_type": "code",
   "execution_count": 67,
   "metadata": {},
   "outputs": [
    {
     "name": "stdout",
     "output_type": "stream",
     "text": [
      "{1: {2: {3: {4: {}}}}}\n"
     ]
    }
   ],
   "source": [
    "list1 = [1, 2, 3, 4]\n",
    "dict1 = current = {}\n",
    "for name in list1:\n",
    "    current[name] = {}\n",
    "    current = current[name]\n",
    "print(dict1)"
   ]
  },
  {
   "cell_type": "markdown",
   "metadata": {},
   "source": [
    "#### 8. Write a Python program to sort a list alphabetically in a dictionary.\n"
   ]
  },
  {
   "cell_type": "code",
   "execution_count": 68,
   "metadata": {},
   "outputs": [
    {
     "name": "stdout",
     "output_type": "stream",
     "text": [
      "{'L1': [12, 34, 56, 87]}\n",
      "{'L2': [0, 10, 23, 30]}\n",
      "{'L3': [1, 2, 6, 9]}\n",
      "{'L4': [21, 34, 40, 67]}\n"
     ]
    }
   ],
   "source": [
    "dict ={ \n",
    "    \"L1\":[87, 34, 56, 12], \n",
    "    \"L2\":[23, 0, 30, 10], \n",
    "    \"L3\":[1, 6, 2, 9], \n",
    "    \"L4\":[40, 34, 21, 67] \n",
    "} \n",
    "for i, j in dict.items(): \n",
    "    sorted_dict ={i:sorted(j)} \n",
    "    print(sorted_dict)"
   ]
  },
  {
   "cell_type": "markdown",
   "metadata": {},
   "source": [
    "\n",
    "#### 9. Write a Python program to sort Counter by value.\n",
    "* Sample data : {'Math':81, 'Physics':83, 'Chemistry':87}\n",
    "* Expected data: [('Chemistry', 87), ('Physics', 83), ('Math', 81)]\n"
   ]
  },
  {
   "cell_type": "code",
   "execution_count": 70,
   "metadata": {},
   "outputs": [
    {
     "name": "stdout",
     "output_type": "stream",
     "text": [
      "[('Chemistry', 87), ('Physics', 83), ('Math', 81)]\n"
     ]
    }
   ],
   "source": [
    "from collections import Counter\n",
    "x = Counter({'Math':81, 'Physics':83, 'Chemistry':87})\n",
    "print(x.most_common())"
   ]
  },
  {
   "cell_type": "markdown",
   "metadata": {},
   "source": [
    "#### 10. Write a Python program to match key values in two dictionaries. Go to the editor\n",
    "* Sample dictionary: {'key1': 1, 'key2': 3, 'key3': 2}, {'key1': 1, 'key2': 2}\n",
    "* Expected output: key1: 1 is present in both x and y\n"
   ]
  },
  {
   "cell_type": "code",
   "execution_count": 71,
   "metadata": {},
   "outputs": [
    {
     "name": "stdout",
     "output_type": "stream",
     "text": [
      "key1: 1 is present in both x and y\n"
     ]
    }
   ],
   "source": [
    "x = {'key1': 1, 'key2': 3, 'key3': 2}\n",
    "y = {'key1': 1, 'key2': 2}\n",
    "for (key, value) in set(x.items()) & set(y.items()):\n",
    "    print('%s: %s is present in both x and y' % (key, value))"
   ]
  },
  {
   "cell_type": "markdown",
   "metadata": {},
   "source": [
    "### Python Data Types: Tuple - Exercises\n"
   ]
  },
  {
   "cell_type": "markdown",
   "metadata": {},
   "source": [
    "#### 1. Write a Python program to create a tuple with different data types.\n"
   ]
  },
  {
   "cell_type": "code",
   "execution_count": 73,
   "metadata": {},
   "outputs": [
    {
     "name": "stdout",
     "output_type": "stream",
     "text": [
      "('shivam', 66.1, 88, False)\n"
     ]
    }
   ],
   "source": [
    "tu = (\"shivam\",66.1,88 ,False)\n",
    "print(tu)"
   ]
  },
  {
   "cell_type": "markdown",
   "metadata": {},
   "source": [
    " #### 2. Write a Python program to add an item in a tuple\n"
   ]
  },
  {
   "cell_type": "code",
   "execution_count": 75,
   "metadata": {},
   "outputs": [
    {
     "name": "stdout",
     "output_type": "stream",
     "text": [
      "('shivam', 66.1, 88, False, 9)\n"
     ]
    }
   ],
   "source": [
    "tu = (\"shivam\",66.1,88 ,False)\n",
    "new = tu + (9,)\n",
    "print(new)"
   ]
  },
  {
   "cell_type": "markdown",
   "metadata": {},
   "source": [
    " #### 3. Write a Python program to convert a tuple to a string. \n"
   ]
  },
  {
   "cell_type": "code",
   "execution_count": 77,
   "metadata": {},
   "outputs": [
    {
     "name": "stdout",
     "output_type": "stream",
     "text": [
      "tuple\n"
     ]
    }
   ],
   "source": [
    "def convert(tup): \n",
    "    str =  ''.join(tup) \n",
    "    return str\n",
    "\n",
    "tuple = ('t','u','p','l','e') \n",
    "str = convert(tuple) \n",
    "print(str)"
   ]
  },
  {
   "cell_type": "markdown",
   "metadata": {},
   "source": [
    "#### 4. Write a Python program to find the repeated items of a tuple\n"
   ]
  },
  {
   "cell_type": "code",
   "execution_count": null,
   "metadata": {},
   "outputs": [],
   "source": [
    "tuplex = 2, 4, 5, 6, 2, 3, 4, 4, 7 \n",
    "count = tuplex.count(4)\n",
    "print(count)"
   ]
  },
  {
   "cell_type": "markdown",
   "metadata": {},
   "source": [
    "#### 5. Write a Python program to find the length of a tuple.\n"
   ]
  },
  {
   "cell_type": "code",
   "execution_count": 1,
   "metadata": {},
   "outputs": [
    {
     "name": "stdout",
     "output_type": "stream",
     "text": [
      "9\n"
     ]
    }
   ],
   "source": [
    "tuplex = 2, 4, 5, 6, 2, 3, 4, 4, 7 \n",
    "print(len(tuplex))"
   ]
  },
  {
   "cell_type": "markdown",
   "metadata": {},
   "source": [
    "#### 6. Write a Python program to convert a tuple to a dictionary.\n"
   ]
  },
  {
   "cell_type": "code",
   "execution_count": 2,
   "metadata": {},
   "outputs": [
    {
     "name": "stdout",
     "output_type": "stream",
     "text": [
      "{'a': 5, 'b': 6}\n"
     ]
    }
   ],
   "source": [
    "tuplex = ((\"a\",5),(\"b\",6))\n",
    "print(dict((x, y) for x, y in tuplex))"
   ]
  },
  {
   "cell_type": "markdown",
   "metadata": {},
   "source": [
    "#### 7. Write a Python program to replace last value of tuples in a list. \n",
    "* Sample list: [(10, 20, 40), (40, 50, 60), (70, 80, 90)]\n",
    "* Expected Output: [(10, 20, 100), (40, 50, 100), (70, 80, 100)]\n"
   ]
  },
  {
   "cell_type": "code",
   "execution_count": 3,
   "metadata": {},
   "outputs": [
    {
     "name": "stdout",
     "output_type": "stream",
     "text": [
      "[(10, 20, 100), (40, 50, 100), (70, 80, 100)]\n"
     ]
    }
   ],
   "source": [
    "l = [(10, 20, 40), (40, 50, 60), (70, 80, 90)]\n",
    "print([t[:-1] + (100,) for t in l])"
   ]
  },
  {
   "cell_type": "markdown",
   "metadata": {},
   "source": [
    "#### 8. Write a Python program to replace last value of tuples in a list. \n",
    "* Sample data: [(), (), ('',), ('a', 'b'), ('a', 'b', 'c'), ('d')]\n",
    "* Expected output: [('',), ('a', 'b'), ('a', 'b', 'c'), 'd']\n"
   ]
  },
  {
   "cell_type": "code",
   "execution_count": null,
   "metadata": {},
   "outputs": [],
   "source": [
    "l = [(10, 20, 40), (40, 50, 60), (70, 80, 90)]\n",
    "print([t[:-1] + (100,) for t in l])"
   ]
  },
  {
   "cell_type": "markdown",
   "metadata": {},
   "source": [
    "#### 9. Write a Python program to sort a tuple by its float element.\n",
    "* Sample data: [('item1', '12.20'), ('item2', '15.10'), ('item3', '24.5')]\n",
    "* Expected Output: [('item3', '24.5'), ('item2', '15.10'), ('item1', '12.20')]\n"
   ]
  },
  {
   "cell_type": "code",
   "execution_count": 4,
   "metadata": {},
   "outputs": [
    {
     "name": "stdout",
     "output_type": "stream",
     "text": [
      "[('item3', '24.5'), ('item2', '15.10'), ('item1', '12.20')]\n"
     ]
    }
   ],
   "source": [
    "price = [('item1', '12.20'), ('item2', '15.10'), ('item3', '24.5')]\n",
    "print( sorted(price, key=lambda x: float(x[1]), reverse=True))"
   ]
  },
  {
   "cell_type": "markdown",
   "metadata": {},
   "source": [
    "#### 10. Write a Python program to count the elements in a list until an element is a tuple\n"
   ]
  },
  {
   "cell_type": "code",
   "execution_count": 5,
   "metadata": {},
   "outputs": [
    {
     "name": "stdout",
     "output_type": "stream",
     "text": [
      "4\n"
     ]
    }
   ],
   "source": [
    "def count(li): \n",
    "    counter = 0\n",
    "    for num in li: \n",
    "        if isinstance(num, tuple): \n",
    "            break\n",
    "        counter = counter + 1\n",
    "    return counter \n",
    " \n",
    "li = [4, 5, 6, 10, (1, 2, 3), 11, 2, 4] \n",
    "print(count(li)) "
   ]
  },
  {
   "cell_type": "markdown",
   "metadata": {},
   "source": [
    "### Python Conditional Statements and loops\n",
    "\n"
   ]
  },
  {
   "cell_type": "markdown",
   "metadata": {},
   "source": [
    "#### 1. Write a Python program to count the number of even and odd numbers from a series of numbers. \n",
    "* Sample numbers : numbers = (1, 2, 3, 4, 5, 6, 7, 8, 9) \n",
    "##### Expected Output : \n",
    "* Number of even numbers : 5\n",
    "* Number of odd numbers : 4\n"
   ]
  },
  {
   "cell_type": "code",
   "execution_count": 52,
   "metadata": {},
   "outputs": [
    {
     "name": "stdout",
     "output_type": "stream",
     "text": [
      "even numbers : 4\n",
      "odd numbers : 5\n"
     ]
    }
   ],
   "source": [
    "numbers = (1, 2, 3, 4, 5, 6, 7, 8, 9)\n",
    "odd = 0\n",
    "even = 0\n",
    "for i in numbers:\n",
    "        if  i % 2==0:\n",
    "            even+=1\n",
    "        else:\n",
    "            odd+=1\n",
    "print(\"even numbers :\",even)\n",
    "print(\"odd numbers :\",odd)"
   ]
  },
  {
   "cell_type": "markdown",
   "metadata": {},
   "source": [
    "####  2. Write a Python program that prints all the numbers from 0 to 6 except 3 and 6.\n",
    "* Note : Use 'continue' statement. \n",
    "* Expected Output : 0 1 2 4 5 \n"
   ]
  },
  {
   "cell_type": "code",
   "execution_count": 50,
   "metadata": {},
   "outputs": [
    {
     "name": "stdout",
     "output_type": "stream",
     "text": [
      "0\n",
      "1\n",
      "2\n",
      "4\n",
      "5\n"
     ]
    }
   ],
   "source": [
    "for i in range(0,7):\n",
    "    if(i==3 or i==6): continue\n",
    "    print(i)"
   ]
  },
  {
   "cell_type": "markdown",
   "metadata": {},
   "source": [
    "#### 3. Write a Python program to get the Fibonacci series between 0 to 50. \n",
    "##### Note : The Fibonacci Sequence is the series of numbers :\n",
    "* 0, 1, 1, 2, 3, 5, 8, 13, 21, .... \n",
    "* Every next number is found by adding up the two numbers before it.\n",
    "* Expected Output : 1 1 2 3 5 8 13 21 34\n"
   ]
  },
  {
   "cell_type": "code",
   "execution_count": 49,
   "metadata": {},
   "outputs": [
    {
     "name": "stdout",
     "output_type": "stream",
     "text": [
      "1\n",
      "1\n",
      "2\n",
      "3\n",
      "5\n",
      "8\n",
      "13\n",
      "21\n",
      "34\n"
     ]
    }
   ],
   "source": [
    "x,y=0,1\n",
    "while y<50:\n",
    "    print(y)\n",
    "    x,y = y,x+y"
   ]
  },
  {
   "cell_type": "markdown",
   "metadata": {},
   "source": [
    "#### 4. Write a Python program to find numbers between 100 and 400 (both included) where each digit of a number is an even number. The numbers obtained should be printed in a comma-separated sequence\n"
   ]
  },
  {
   "cell_type": "code",
   "execution_count": 47,
   "metadata": {},
   "outputs": [
    {
     "name": "stdout",
     "output_type": "stream",
     "text": [
      "200,202,204,206,208,220,222,224,226,228,240,242,244,246,248,260,262,264,266,268,280,282,284,286,288,400\n"
     ]
    }
   ],
   "source": [
    "items = []\n",
    "for i in range(100, 401):\n",
    "    s = str(i)\n",
    "    if (int(s[0])%2==0) and (int(s[1])%2==0) and (int(s[2])%2==0):\n",
    "        items.append(s)\n",
    "print( \",\".join(items))"
   ]
  },
  {
   "cell_type": "markdown",
   "metadata": {},
   "source": [
    "#### 5. Write a Python program to create the multiplication table (from 1 to 10) of a number.\n"
   ]
  },
  {
   "cell_type": "code",
   "execution_count": 46,
   "metadata": {},
   "outputs": [
    {
     "name": "stdout",
     "output_type": "stream",
     "text": [
      "10\n",
      "10 x 1 = 10\n",
      "10 x 2 = 20\n",
      "10 x 3 = 30\n",
      "10 x 4 = 40\n",
      "10 x 5 = 50\n",
      "10 x 6 = 60\n",
      "10 x 7 = 70\n",
      "10 x 8 = 80\n",
      "10 x 9 = 90\n",
      "10 x 10 = 100\n"
     ]
    }
   ],
   "source": [
    "number=int(input())\n",
    "for i in range(1,11):\n",
    "    print(str(number)+\" x \"+str(i)+\" = \"+str(number*i))"
   ]
  },
  {
   "cell_type": "markdown",
   "metadata": {},
   "source": [
    "### Python functions - Exercises\n"
   ]
  },
  {
   "cell_type": "markdown",
   "metadata": {},
   "source": [
    "#### 1. Write a Python function to find the Max of three numbers.\n"
   ]
  },
  {
   "cell_type": "code",
   "execution_count": 30,
   "metadata": {},
   "outputs": [
    {
     "name": "stdout",
     "output_type": "stream",
     "text": [
      "5\n"
     ]
    }
   ],
   "source": [
    "def max(one,two,three):\n",
    "    list1=[one,two,three]\n",
    "    list1.sort()\n",
    "    return list1[-1]\n",
    "print(max(1,5,3))"
   ]
  },
  {
   "cell_type": "markdown",
   "metadata": {},
   "source": [
    "#### 2.  Write a Python function to sum all the numbers in a list\n"
   ]
  },
  {
   "cell_type": "code",
   "execution_count": 31,
   "metadata": {},
   "outputs": [
    {
     "name": "stdout",
     "output_type": "stream",
     "text": [
      "146\n"
     ]
    }
   ],
   "source": [
    "def sum(list1):\n",
    "    sum1=0\n",
    "    for i in list1:\n",
    "        sum1+=i\n",
    "    return sum1\n",
    "print(sum([12, 45,12, 45, 8, 6, 8, 6, 4] ))"
   ]
  },
  {
   "cell_type": "markdown",
   "metadata": {},
   "source": [
    "#### 3. Write a Python function to multiply all the numbers in a list\n"
   ]
  },
  {
   "cell_type": "code",
   "execution_count": 34,
   "metadata": {},
   "outputs": [
    {
     "name": "stdout",
     "output_type": "stream",
     "text": [
      "2687385600\n"
     ]
    }
   ],
   "source": [
    "def mul(list1):\n",
    "    mul1=1\n",
    "    for i in list1:\n",
    "        mul1*=i\n",
    "    return mul1\n",
    "print(mul([12, 45,12, 45, 8, 6, 8, 6, 4] ))"
   ]
  },
  {
   "cell_type": "markdown",
   "metadata": {},
   "source": [
    "#### 4. Write a Python function that accepts a string and calculate the number of upper case letters and lower case letters\n"
   ]
  },
  {
   "cell_type": "code",
   "execution_count": 43,
   "metadata": {},
   "outputs": [
    {
     "name": "stdout",
     "output_type": "stream",
     "text": [
      "7 6\n"
     ]
    }
   ],
   "source": [
    "def calc(string1):\n",
    "    ucount=0\n",
    "    lcount=0\n",
    "    for i in range(len(string1)):\n",
    "        if string1[i].isupper():ucount+=1\n",
    "        if string1[i].islower():lcount+=1\n",
    "    print(ucount,lcount)\n",
    "calc('ThIs Is A strING')"
   ]
  },
  {
   "cell_type": "markdown",
   "metadata": {},
   "source": [
    "#### 5. Write a Python program to print the even numbers from a given list\n"
   ]
  },
  {
   "cell_type": "code",
   "execution_count": 45,
   "metadata": {},
   "outputs": [
    {
     "name": "stdout",
     "output_type": "stream",
     "text": [
      "12\n",
      "12\n",
      "8\n",
      "6\n",
      "8\n",
      "6\n",
      "4\n",
      "None\n"
     ]
    }
   ],
   "source": [
    "def check(list1):\n",
    "    for i in list1:\n",
    "        if i%2==0:print(i)\n",
    "print(check([12,45,12, 45, 8, 6, 8, 6, 4]))"
   ]
  }
 ],
 "metadata": {
  "kernelspec": {
   "display_name": "Python 3",
   "language": "python",
   "name": "python3"
  },
  "language_info": {
   "codemirror_mode": {
    "name": "ipython",
    "version": 3
   },
   "file_extension": ".py",
   "mimetype": "text/x-python",
   "name": "python",
   "nbconvert_exporter": "python",
   "pygments_lexer": "ipython3",
   "version": "3.7.4"
  }
 },
 "nbformat": 4,
 "nbformat_minor": 2
}
